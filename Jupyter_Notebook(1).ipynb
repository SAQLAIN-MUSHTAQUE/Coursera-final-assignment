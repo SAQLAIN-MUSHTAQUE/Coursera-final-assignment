{
  "metadata": {
    "kernelspec": {
      "name": "python",
      "display_name": "Pyolite",
      "language": "python"
    },
    "language_info": {
      "codemirror_mode": {
        "name": "python",
        "version": 3
      },
      "file_extension": ".py",
      "mimetype": "text/x-python",
      "name": "python",
      "nbconvert_exporter": "python",
      "pygments_lexer": "ipython3",
      "version": "3.8"
    }
  },
  "nbformat_minor": 4,
  "nbformat": 4,
  "cells": [
    {
      "cell_type": "markdown",
      "source": "<center>\n    <img src=\"https://s3-api.us-geo.objectstorage.softlayer.net/cf-courses-data/CognitiveClass/Logos/organization_logo/organization_logo.png\" width=\"300\" alt=\"cognitiveclass.ai logo\"  />\n</center>\n",
      "metadata": {}
    },
    {
      "cell_type": "markdown",
      "source": "# My Jupyter Notebook on IBM Watson Studio",
      "metadata": {}
    },
    {
      "cell_type": "markdown",
      "source": "**I am Hafiz Muhammad Saqlain Mushtaque.**\n I have done my bachelor in Space Science and now I want to switch my career in the field of data science.",
      "metadata": {}
    },
    {
      "cell_type": "markdown",
      "source": "*I am interested in data science because it helps to find out insight from large raw data. I am usually working on GIS data, and I want to find many results from specific data or sometime with large data try to find new insights, for instance: finding a cause that affects the sales in businesses or areas affected by natural disasters.*",
      "metadata": {}
    },
    {
      "cell_type": "markdown",
      "source": "### Below there is simple code that describe BODMAS rule",
      "metadata": {}
    },
    {
      "cell_type": "code",
      "source": "1*(100/4*2+75-25)",
      "metadata": {
        "trusted": true
      },
      "execution_count": 4,
      "outputs": [
        {
          "execution_count": 4,
          "output_type": "execute_result",
          "data": {
            "text/plain": "100.0"
          },
          "metadata": {}
        }
      ]
    },
    {
      "cell_type": "markdown",
      "source": "#### ***Table***\n**Name**|**Father Name**|**CNIC**|\n---|---|---|\n*Saqlain*|Mushtaque Ahmed|***42101-7015267-7***|\n*Sharjeel*|Mushtaque Ahmed|***42101-8025143-4***|\n\n#### ***Link***\n[My first GitHub project](https://github.com/SAQLAIN-MUSHTAQUE/Convert_mp3_to_wav \"mp3 To wav format conversion module\")</br>\nHere is my Linkedin account <https://www.linkedin.com/in/saqlain-mushtaque-065058b9/>\n\n\n#### ***Horizontal Rule***\n#### *The three rules are given below*\n---\n\nHyphens\n\n***\n\nAsterisks\n\n___\n\nUnderscores\n",
      "metadata": {
        "tags": []
      }
    },
    {
      "cell_type": "code",
      "source": "",
      "metadata": {},
      "execution_count": null,
      "outputs": []
    }
  ]
}